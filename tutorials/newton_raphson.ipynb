{
 "cells": [
  {
   "cell_type": "markdown",
   "metadata": {
    "collapsed": true
   },
   "source": [
    "# Newton-Raphson's method\n",
    "\n",
    "This is a short summary from https://en.wikipedia.org/wiki/Newton%27s_method explaining the Newton-Raphson's method.\n",
    "\n",
    "I also recommend reading [this excellent page](http://numbers.computation.free.fr/Constants/Algorithms/newton.html) which gives more details and historical facts."
   ]
  },
  {
   "cell_type": "markdown",
   "metadata": {},
   "source": [
    "## Description\n",
    "\n",
    "In numerical analysis, Newton's method, also known as the Newton–Raphson method, is a root-finding algorithm which produces successively better approximations to the zeroes of a function. \n",
    "\n",
    "Let $f$ be a function  $f : (a, b) \\rightarrow \\mathbb{R}$ which admits a derivative $f'$ on $(a, b)$, and an initial guess $x_0$ for a zero of $f$. If the function satisfies sufficient assumptions and the initial guess is close, then $x_{1}=x_{0}-{\\frac {f(x_{0})}{f'(x_{0})}}$ is a better approximation of the zero than $x_0$.\n",
    "\n",
    "Geometrically, $(x_1, 0)$ is the intersection of the x-axis and the tangent of the graph of f at $(x_0, f (x_0))$: that is, the improved guess is the unique root of the linear approximation at the initial point. The process is repeated as $x_{n+1}=x_{n}-{\\frac {f(x_{n})}{f'(x_{n})}}$ until a sufficiently precise value is reached.\n",
    "\n",
    "\n",
    "This algorithm is first in the class of Householder's methods, succeeded by Halley's method."
   ]
  },
  {
   "cell_type": "markdown",
   "metadata": {},
   "source": [
    "## Assumptions\n",
    "\n",
    "The method will usually converge, provided that:\n",
    "- the initial guess \"is close enough\" to the unknown zero $\\alpha$\n",
    "- $f'(\\alpha) \\neq 0$\n",
    "- $f''$ is continuous around $\\alpha$"
   ]
  },
  {
   "cell_type": "markdown",
   "metadata": {},
   "source": [
    "## Convergence rate\n",
    "\n",
    "For a zero of multiplicity 1, the convergence is at least quadratic in a neighbourhood of the zero, which intuitively means that the number of correct digits roughly doubles in every step.\n",
    "\n",
    "_Note:_ If the multiplicity $m > 1$, the method will still converge but not in a quadratic way (ex $f: x \\rightarrow x^2$)"
   ]
  },
  {
   "cell_type": "markdown",
   "metadata": {},
   "source": [
    "## Difficulties\n",
    "\n",
    "#### Difficulty in calculating derivative of a function\n",
    "$f'$ must be expressed analytically, which in practice might be hard to have.\n",
    "\n",
    "#### Derivative expression at the zero\n",
    "If $f'$ is not properly defined at the zero (like $f: x \\rightarrow \\|x\\|^{\\frac{1}{2}}$) or is equal to zero, the method might fail to converge.\n",
    "\n"
   ]
  },
  {
   "cell_type": "markdown",
   "metadata": {},
   "source": [
    "# Examples"
   ]
  },
  {
   "cell_type": "markdown",
   "metadata": {},
   "source": [
    "## Logarithm\n",
    "To compute the logarithm $y = \\ln(x)$ for a given $x > 0$, we define $f: y \\rightarrow 1 - x \\cdot e^{-y}$.\n",
    "\n",
    "Indeed $\\ln(x)$ is a zero: $f(\\ln(x)) = 1 - x \\cdot e^{-\\ln(x)} = 1 - x \\cdot \\frac{1}{x} = 0$\n",
    "\n",
    "The derivative $f'$ writes $f' : y \\rightarrow x \\cdot e^{-y}$\n",
    "\n",
    "Hence the update rule is $y_{n+1}=y_{n}-{\\frac {f(y_{n})}{f'(y_{n})}}=y_{n}-{\\frac {1 - x \\cdot e^{-y_n}}{x \\cdot e^{-y_n}}}$"
   ]
  },
  {
   "cell_type": "markdown",
   "metadata": {},
   "source": [
    "Let $h := 1 - x \\cdot e^{-y_n}$"
   ]
  },
  {
   "cell_type": "markdown",
   "metadata": {},
   "source": [
    "Hence $y_{n+1} - y_n = - \\dfrac{h}{1-h} = 1 - \\dfrac{1}{1-h}$"
   ]
  },
  {
   "cell_type": "markdown",
   "metadata": {},
   "source": [
    "Recall that we have chose $y_0$ close to $ln(x)$ so $h$ should be small ie $h \\ll 1$.\n",
    "Hence: $(1 - h)(1 + h + h^2 + h^3 + ... + h^l) = 1 - h^{l+1} \\rightarrow_{l \\rightarrow \\inf} 1$"
   ]
  },
  {
   "cell_type": "markdown",
   "metadata": {},
   "source": [
    "Therefore we can express:\n",
    "$ y_{n+1} - y_n = 1 - \\sum_{i = 0}^{d} h^i = - h \\sum_{i = 0}^{d-1} h^i$"
   ]
  },
  {
   "cell_type": "code",
   "execution_count": null,
   "metadata": {},
   "outputs": [],
   "source": []
  }
 ],
 "metadata": {
  "kernelspec": {
   "display_name": "Python (Pysyft)",
   "language": "python",
   "name": "pysyft"
  },
  "language_info": {
   "codemirror_mode": {
    "name": "ipython",
    "version": 3
   },
   "file_extension": ".py",
   "mimetype": "text/x-python",
   "name": "python",
   "nbconvert_exporter": "python",
   "pygments_lexer": "ipython3",
   "version": "3.7.0"
  }
 },
 "nbformat": 4,
 "nbformat_minor": 1
}
